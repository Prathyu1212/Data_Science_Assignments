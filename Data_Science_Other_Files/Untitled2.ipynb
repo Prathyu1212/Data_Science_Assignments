{
 "cells": [
  {
   "cell_type": "markdown",
   "id": "5a912077",
   "metadata": {},
   "source": [
    "# Python string methods"
   ]
  },
  {
   "cell_type": "markdown",
   "id": "77b536a4",
   "metadata": {},
   "source": [
    "## 1. Python string capitalize()"
   ]
  },
  {
   "cell_type": "code",
   "execution_count": 1,
   "id": "162105bd",
   "metadata": {},
   "outputs": [
    {
     "name": "stdout",
     "output_type": "stream",
     "text": [
      "Prathyush\n"
     ]
    }
   ],
   "source": [
    "name = 'prathyush'\n",
    "new_name = name.capitalize()\n",
    "print(new_name)"
   ]
  },
  {
   "cell_type": "code",
   "execution_count": 5,
   "id": "5d666046",
   "metadata": {},
   "outputs": [
    {
     "name": "stdout",
     "output_type": "stream",
     "text": [
      "your location is Kerala\n"
     ]
    }
   ],
   "source": [
    "location = 'kerala'\n",
    "capitalized_location = location.capitalize()\n",
    "print('your location is' , capitalized_location)"
   ]
  },
  {
   "cell_type": "markdown",
   "id": "fdab886a",
   "metadata": {},
   "source": [
    "## 2. Python string casefold()"
   ]
  },
  {
   "cell_type": "code",
   "execution_count": 7,
   "id": "47a50a96",
   "metadata": {},
   "outputs": [
    {
     "name": "stdout",
     "output_type": "stream",
     "text": [
      "hey there\n"
     ]
    }
   ],
   "source": [
    "string = 'Hey There'\n",
    "low_string = string.casefold()\n",
    "print(low_string)"
   ]
  },
  {
   "cell_type": "code",
   "execution_count": 18,
   "id": "ad0bfd38",
   "metadata": {
    "scrolled": false
   },
   "outputs": [
    {
     "name": "stdout",
     "output_type": "stream",
     "text": [
      "area =  length  *  breadth\n"
     ]
    }
   ],
   "source": [
    "x = 'LENGTH'\n",
    "y = 'BREADTH'\n",
    "low_x = x.casefold()\n",
    "low_y = y.casefold()\n",
    "print('area = ' , low_x ,' * ' , low_y)\n",
    "\n"
   ]
  },
  {
   "cell_type": "markdown",
   "id": "c6e300c5",
   "metadata": {},
   "source": [
    "## 3. Python string center()"
   ]
  },
  {
   "cell_type": "code",
   "execution_count": 23,
   "id": "a5dc300d",
   "metadata": {},
   "outputs": [
    {
     "name": "stdout",
     "output_type": "stream",
     "text": [
      "*********India**********\n"
     ]
    }
   ],
   "source": [
    "country = 'India'\n",
    "cen_country = country.center(24,'*')\n",
    "print(cen_country)"
   ]
  },
  {
   "cell_type": "code",
   "execution_count": 24,
   "id": "98bed829",
   "metadata": {},
   "outputs": [
    {
     "name": "stdout",
     "output_type": "stream",
     "text": [
      "-----------superdry-----------\n"
     ]
    }
   ],
   "source": [
    "brand = 'superdry'\n",
    "cen_brand = brand.center(30,\"-\")\n",
    "print(cen_brand)"
   ]
  },
  {
   "cell_type": "markdown",
   "id": "07040a46",
   "metadata": {},
   "source": [
    "## 4. Python string count()"
   ]
  },
  {
   "cell_type": "code",
   "execution_count": 25,
   "id": "aa12f825",
   "metadata": {},
   "outputs": [
    {
     "name": "stdout",
     "output_type": "stream",
     "text": [
      "no. of times repeated is:  3\n"
     ]
    }
   ],
   "source": [
    "lyrics = 'dream of para para paradise'\n",
    "repeat = 'para'\n",
    "count = lyrics.count(repeat)\n",
    "print('no. of times repeated is: ' , count)"
   ]
  },
  {
   "cell_type": "code",
   "execution_count": 29,
   "id": "7268995f",
   "metadata": {},
   "outputs": [
    {
     "name": "stdout",
     "output_type": "stream",
     "text": [
      "no of i's in mississippi is:  4\n"
     ]
    }
   ],
   "source": [
    "word = 'mississippi'\n",
    "repeat = 'i'\n",
    "count = word.count(repeat)\n",
    "print(\"no of i's in mississippi is: \" , count )"
   ]
  },
  {
   "cell_type": "markdown",
   "id": "8aae9e7b",
   "metadata": {},
   "source": [
    "## 5. Python string endswith()"
   ]
  },
  {
   "cell_type": "code",
   "execution_count": 35,
   "id": "79a47dc2",
   "metadata": {},
   "outputs": [
    {
     "name": "stdout",
     "output_type": "stream",
     "text": [
      "False\n",
      "True\n"
     ]
    }
   ],
   "source": [
    "sentence = (\"kerela is god's own country.\")\n",
    "ends = sentence.endswith('country')\n",
    "print(ends)\n",
    "endss = sentence.endswith('country.')\n",
    "print(endss)"
   ]
  },
  {
   "cell_type": "code",
   "execution_count": 36,
   "id": "a4430f2f",
   "metadata": {
    "scrolled": true
   },
   "outputs": [
    {
     "name": "stdout",
     "output_type": "stream",
     "text": [
      "False\n"
     ]
    }
   ],
   "source": [
    "quote = 'live a life you will remember'\n",
    "end = quote.endswith('remember.')\n",
    "print(end)"
   ]
  },
  {
   "cell_type": "markdown",
   "id": "b297a7fb",
   "metadata": {},
   "source": [
    "## 6. Python string expandtabs()"
   ]
  },
  {
   "cell_type": "code",
   "execution_count": 37,
   "id": "bc5bdc9b",
   "metadata": {},
   "outputs": [
    {
     "name": "stdout",
     "output_type": "stream",
     "text": [
      "name    age     place\n"
     ]
    }
   ],
   "source": [
    "details = 'name\\tage\\tplace'\n",
    "tab_details = details.expandtabs()\n",
    "print(tab_details)"
   ]
  },
  {
   "cell_type": "code",
   "execution_count": 38,
   "id": "169c8785",
   "metadata": {},
   "outputs": [
    {
     "name": "stdout",
     "output_type": "stream",
     "text": [
      "1   2   3   3   4   5\n"
     ]
    }
   ],
   "source": [
    "numbers = '1\\t2\\t3\\t3\\t4\\t5'\n",
    "tab_num = numbers.expandtabs(4)\n",
    "print(tab_num)"
   ]
  },
  {
   "cell_type": "markdown",
   "id": "3ae2756a",
   "metadata": {},
   "source": [
    "## 7. Python string find()"
   ]
  },
  {
   "cell_type": "code",
   "execution_count": 39,
   "id": "46226182",
   "metadata": {},
   "outputs": [
    {
     "name": "stdout",
     "output_type": "stream",
     "text": [
      "12\n"
     ]
    }
   ],
   "source": [
    "word = 'once upon a time'\n",
    "to_find = word.find('time')\n",
    "print(to_find)"
   ]
  },
  {
   "cell_type": "code",
   "execution_count": 40,
   "id": "3b5eb9d6",
   "metadata": {},
   "outputs": [
    {
     "name": "stdout",
     "output_type": "stream",
     "text": [
      "-1\n"
     ]
    }
   ],
   "source": [
    "word = 'scared to be lonely'\n",
    "to_find = word.find('afraid')\n",
    "print(to_find)"
   ]
  },
  {
   "cell_type": "code",
   "execution_count": null,
   "id": "1bda978d",
   "metadata": {},
   "outputs": [],
   "source": []
  }
 ],
 "metadata": {
  "kernelspec": {
   "display_name": "Python 3",
   "language": "python",
   "name": "python3"
  },
  "language_info": {
   "codemirror_mode": {
    "name": "ipython",
    "version": 3
   },
   "file_extension": ".py",
   "mimetype": "text/x-python",
   "name": "python",
   "nbconvert_exporter": "python",
   "pygments_lexer": "ipython3",
   "version": "3.8.8"
  }
 },
 "nbformat": 4,
 "nbformat_minor": 5
}
