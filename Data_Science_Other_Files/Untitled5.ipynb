{
 "cells": [
  {
   "cell_type": "markdown",
   "id": "e70ac87d",
   "metadata": {},
   "source": [
    "# Amstrong number or not? "
   ]
  },
  {
   "cell_type": "code",
   "execution_count": 3,
   "id": "6543e387",
   "metadata": {},
   "outputs": [
    {
     "name": "stdout",
     "output_type": "stream",
     "text": [
      "enter a number: 153\n",
      "the number is a amstrong number\n"
     ]
    }
   ],
   "source": [
    "n = int(input('enter a number: '))\n",
    "sum = 0\n",
    "order = len(str(n))\n",
    "copy_n = n\n",
    "\n",
    "while(n>0):\n",
    "    digit = n%10\n",
    "    sum = sum + digit ** order\n",
    "    n = n//10\n",
    "if sum == copy_n:\n",
    "    print('the number is a amstrong number')\n",
    "else:\n",
    "    print('the number is not a amstrong number')"
   ]
  },
  {
   "cell_type": "markdown",
   "id": "d8b4586f",
   "metadata": {},
   "source": [
    "# Reverse a number or string\n",
    "## method 1"
   ]
  },
  {
   "cell_type": "code",
   "execution_count": 4,
   "id": "8e00c625",
   "metadata": {},
   "outputs": [
    {
     "name": "stdout",
     "output_type": "stream",
     "text": [
      "enter a number100\n"
     ]
    },
    {
     "data": {
      "text/plain": [
       "11"
      ]
     },
     "execution_count": 4,
     "metadata": {},
     "output_type": "execute_result"
    }
   ],
   "source": [
    "number_string = input('enter a number')\n",
    "number_string_reversed = number_string[::-1]\n",
    "number_reversed = int(number_string_reversed)\n",
    "number_reversed = number_reversed + 10\n",
    "number_reversed"
   ]
  },
  {
   "cell_type": "markdown",
   "id": "747a1469",
   "metadata": {},
   "source": [
    "## method 2"
   ]
  },
  {
   "cell_type": "code",
   "execution_count": 6,
   "id": "808b28ae",
   "metadata": {},
   "outputs": [
    {
     "name": "stdout",
     "output_type": "stream",
     "text": [
      "enter a number123\n",
      "321\n"
     ]
    }
   ],
   "source": [
    "number_string = print(input('enter a number')[::-1])"
   ]
  },
  {
   "cell_type": "markdown",
   "id": "44a7c508",
   "metadata": {},
   "source": [
    "# Palindrome or not?"
   ]
  },
  {
   "cell_type": "code",
   "execution_count": 9,
   "id": "60d1a548",
   "metadata": {},
   "outputs": [
    {
     "name": "stdout",
     "output_type": "stream",
     "text": [
      "enter a number: 121\n",
      "the number is a palindrome\n"
     ]
    }
   ],
   "source": [
    "s = input('enter a number: ')\n",
    "reverse = s[::-1]\n",
    "\n",
    "if(reverse == s):\n",
    "    print('the number is a palindrome')\n",
    "else:\n",
    "    print('the number is not a palindrome')"
   ]
  },
  {
   "cell_type": "markdown",
   "id": "19393f5a",
   "metadata": {},
   "source": [
    "# Sum of digits"
   ]
  },
  {
   "cell_type": "code",
   "execution_count": 27,
   "id": "317e6e25",
   "metadata": {},
   "outputs": [
    {
     "name": "stdout",
     "output_type": "stream",
     "text": [
      "enter a number: 123\n",
      "6\n"
     ]
    }
   ],
   "source": [
    "summ = int(input('enter a number: '))\n",
    "result = 0\n",
    "\n",
    "while(summ>0):\n",
    "    digitss = summ%10\n",
    "    result = result + digitss\n",
    "    summ = summ//10\n",
    "print(result)    "
   ]
  },
  {
   "cell_type": "markdown",
   "id": "657e8250",
   "metadata": {},
   "source": [
    "# Second largest number in a list"
   ]
  },
  {
   "cell_type": "code",
   "execution_count": 30,
   "id": "c5f200f4",
   "metadata": {},
   "outputs": [
    {
     "name": "stdout",
     "output_type": "stream",
     "text": [
      "second largest number is:  80\n"
     ]
    }
   ],
   "source": [
    "my_list = [1,100,80,50,4,3]\n",
    "my_list.sort()\n",
    "print('second largest number is: ', my_list[-2])"
   ]
  },
  {
   "cell_type": "markdown",
   "id": "f7f50046",
   "metadata": {},
   "source": [
    "# Second smallest number in a list"
   ]
  },
  {
   "cell_type": "code",
   "execution_count": 32,
   "id": "483c8e25",
   "metadata": {},
   "outputs": [
    {
     "name": "stdout",
     "output_type": "stream",
     "text": [
      "second smallest number is:  3\n"
     ]
    }
   ],
   "source": [
    "my_list = [1,100,80,50,4,3]\n",
    "my_list.sort()\n",
    "print('second smallest number is: ', my_list[1])\n"
   ]
  },
  {
   "cell_type": "markdown",
   "id": "8fe0e1c0",
   "metadata": {},
   "source": [
    "# HCF or GCD"
   ]
  },
  {
   "cell_type": "code",
   "execution_count": 50,
   "id": "ffc803b4",
   "metadata": {},
   "outputs": [
    {
     "name": "stdout",
     "output_type": "stream",
     "text": [
      "enter the first number: 4\n",
      "enter the second number: 6\n",
      "HCF = 2\n"
     ]
    }
   ],
   "source": [
    "num1 = int(input('enter the first number: '))\n",
    "num2 = int(input('enter the second number: '))\n",
    "\n",
    "if num2>num1:\n",
    "    mn = num1\n",
    "else:\n",
    "    mn = num2\n",
    "    \n",
    "for i in range(1,mn+1):\n",
    "    if num1%i==0 and num2%i==0 :\n",
    "       hcf = i\n",
    "    \n",
    "print(f'HCF = {hcf}')    "
   ]
  },
  {
   "cell_type": "markdown",
   "id": "a41c8da8",
   "metadata": {},
   "source": [
    "# leap year or not?"
   ]
  },
  {
   "cell_type": "code",
   "execution_count": 52,
   "id": "7a0e4849",
   "metadata": {},
   "outputs": [
    {
     "name": "stdout",
     "output_type": "stream",
     "text": [
      "enter the year: 2012\n",
      "2012 is a leap year\n"
     ]
    }
   ],
   "source": [
    "year = int(input('enter the year: '))\n",
    "if (year % 400 == 0):\n",
    "    print(year, 'is a leap year')\n",
    "elif(year % 4 ==0 and year %100 !=0) :\n",
    "    print(year, 'is a leap year')\n",
    "else:\n",
    "    print(year, 'is not a leap year')"
   ]
  },
  {
   "cell_type": "markdown",
   "id": "373cb35b",
   "metadata": {},
   "source": [
    "# To remove duplicates in list"
   ]
  },
  {
   "cell_type": "code",
   "execution_count": 56,
   "id": "252d6be2",
   "metadata": {},
   "outputs": [
    {
     "name": "stdout",
     "output_type": "stream",
     "text": [
      "[10, 20, 30, 40, 50]\n"
     ]
    }
   ],
   "source": [
    "data = [10,20,10,30,10,20,40,20,10,20,50]\n",
    "\n",
    "def remove_duplicates(duplist):\n",
    "    noduplist = []\n",
    "    \n",
    "    for elements in duplist:\n",
    "        if elements not in noduplist:\n",
    "            noduplist.append(elements)\n",
    "    return noduplist\n",
    "\n",
    "print(remove_duplicates(data))\n"
   ]
  },
  {
   "cell_type": "markdown",
   "id": "47f7f799",
   "metadata": {},
   "source": [
    "# Print shapes"
   ]
  },
  {
   "cell_type": "code",
   "execution_count": 7,
   "id": "69c8e251",
   "metadata": {},
   "outputs": [
    {
     "name": "stdout",
     "output_type": "stream",
     "text": [
      "enter the number of rows: 5\n",
      "*\n",
      "**\n",
      "***\n",
      "****\n",
      "*****\n"
     ]
    }
   ],
   "source": [
    "num = int(input('enter the number of rows: '))\n",
    "for i in range(0,num):\n",
    "    for j in range(0,num+1):\n",
    "        print(end=\"\")\n",
    "    for j in range(0,i+1):\n",
    "        print(\"*\",end=\"\")\n",
    "    print()    "
   ]
  },
  {
   "cell_type": "code",
   "execution_count": 34,
   "id": "7e2f34c4",
   "metadata": {},
   "outputs": [
    {
     "name": "stdout",
     "output_type": "stream",
     "text": [
      "enter a letter: a\n",
      "vowel\n",
      "None\n"
     ]
    }
   ],
   "source": [
    "data = input('enter a letter: ')\n",
    "\n",
    "def remove_duplicates(duplist):\n",
    "    noduplist = ['a','e','i','o','u']\n",
    "    \n",
    "    for elements in duplist:\n",
    "        if elements not in noduplist:\n",
    "            print(' not vowel')\n",
    "        \n",
    "        else:\n",
    "            print('vowel')\n",
    "            \n",
    "print(remove_duplicates(data))\n"
   ]
  },
  {
   "cell_type": "markdown",
   "id": "66b01621",
   "metadata": {},
   "source": [
    "# No of vowels in sentence"
   ]
  },
  {
   "cell_type": "code",
   "execution_count": 40,
   "id": "74aaae14",
   "metadata": {},
   "outputs": [
    {
     "name": "stdout",
     "output_type": "stream",
     "text": [
      "enter the sentence: Ola nenos\n",
      "number:  4\n"
     ]
    }
   ],
   "source": [
    "sentence = input('enter the sentence: ').lower()\n",
    "count= 0\n",
    "list11 = ['a','e','i','o','u']\n",
    "for char in sentence:\n",
    "    if char in list11:\n",
    "        count= count + 1\n",
    "        \n",
    "print('number: ',count)        \n"
   ]
  },
  {
   "cell_type": "markdown",
   "id": "b79c2718",
   "metadata": {},
   "source": [
    "# Even or Odd"
   ]
  },
  {
   "cell_type": "code",
   "execution_count": 7,
   "id": "003e6d2e",
   "metadata": {},
   "outputs": [
    {
     "name": "stdout",
     "output_type": "stream",
     "text": [
      "enter a number3\n",
      "the number is odd\n"
     ]
    }
   ],
   "source": [
    "num = int(input('enter a number'))\n",
    "rem = num%2\n",
    "if (rem == 0):\n",
    "    print('the number is even')\n",
    "else:\n",
    "    print('the number is odd')"
   ]
  },
  {
   "cell_type": "markdown",
   "id": "aa1e7b71",
   "metadata": {},
   "source": [
    "# Swap two numbers"
   ]
  },
  {
   "cell_type": "code",
   "execution_count": 9,
   "id": "6775b564",
   "metadata": {},
   "outputs": [
    {
     "name": "stdout",
     "output_type": "stream",
     "text": [
      "3\n",
      "7\n",
      "\n"
     ]
    }
   ],
   "source": [
    "a = 2\n",
    "b = 3\n",
    "\n",
    "temp = a\n",
    "a = b\n",
    "b= temp\n",
    "\n",
    "print(a)\n",
    "\n",
    "#or \n",
    "c=3\n",
    "d=7\n",
    "\n",
    "c,d =d,c\n",
    "print(c)\n",
    "\n",
    "print()"
   ]
  },
  {
   "cell_type": "markdown",
   "id": "5804e83d",
   "metadata": {},
   "source": [
    "# Prime or not"
   ]
  },
  {
   "cell_type": "code",
   "execution_count": 18,
   "id": "2844d6f1",
   "metadata": {},
   "outputs": [
    {
     "name": "stdout",
     "output_type": "stream",
     "text": [
      "enter a number10\n",
      " not prime\n"
     ]
    }
   ],
   "source": [
    "number = int(input('enter a number'))\n",
    "\n",
    "for i in range (2,number):\n",
    "    if number % i == 0:\n",
    "        print(' not prime')\n",
    "        break\n",
    "else:\n",
    "    print('prime')"
   ]
  },
  {
   "cell_type": "markdown",
   "id": "2a50f692",
   "metadata": {},
   "source": [
    "## Fibonacci"
   ]
  },
  {
   "cell_type": "code",
   "execution_count": 19,
   "id": "531ee945",
   "metadata": {},
   "outputs": [
    {
     "name": "stdout",
     "output_type": "stream",
     "text": [
      "0\n",
      "1\n",
      "2\n",
      "3\n",
      "5\n"
     ]
    }
   ],
   "source": [
    "\n",
    "def fib(n):\n",
    "    \n",
    "    a=0\n",
    "    b=1\n",
    "    print(0)\n",
    "    print(1)\n",
    "    \n",
    "    for i in range(2,n):\n",
    "        \n",
    "        c=a+b\n",
    "        a= b\n",
    "        b=c\n",
    "        \n",
    "        print(a+b)\n",
    "        \n",
    "    \n",
    "\n",
    "\n",
    "fib(5)"
   ]
  },
  {
   "cell_type": "markdown",
   "id": "e875b764",
   "metadata": {},
   "source": [
    "# Factorial"
   ]
  },
  {
   "cell_type": "code",
   "execution_count": 20,
   "id": "e8e80f89",
   "metadata": {},
   "outputs": [
    {
     "name": "stdout",
     "output_type": "stream",
     "text": [
      "24\n"
     ]
    }
   ],
   "source": [
    "\n",
    "\n",
    "def fact(n):\n",
    "    \n",
    "    f = 1\n",
    "    \n",
    "    for i  in range (1,n+1):\n",
    "        f = f*i\n",
    "        \n",
    "    return f\n",
    "\n",
    "x=4\n",
    "result=fact(x)\n",
    "\n",
    "print(result)\n",
    "    \n",
    "\n",
    "        \n",
    "        "
   ]
  },
  {
   "cell_type": "code",
   "execution_count": null,
   "id": "24944810",
   "metadata": {},
   "outputs": [],
   "source": []
  }
 ],
 "metadata": {
  "kernelspec": {
   "display_name": "Python 3",
   "language": "python",
   "name": "python3"
  },
  "language_info": {
   "codemirror_mode": {
    "name": "ipython",
    "version": 3
   },
   "file_extension": ".py",
   "mimetype": "text/x-python",
   "name": "python",
   "nbconvert_exporter": "python",
   "pygments_lexer": "ipython3",
   "version": "3.8.8"
  }
 },
 "nbformat": 4,
 "nbformat_minor": 5
}
