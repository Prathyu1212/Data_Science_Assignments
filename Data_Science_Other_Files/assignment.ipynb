{
 "cells": [
  {
   "cell_type": "markdown",
   "id": "d5190521",
   "metadata": {},
   "source": [
    "# Python string methods"
   ]
  },
  {
   "cell_type": "markdown",
   "id": "316e0c40",
   "metadata": {},
   "source": [
    "## 1. Python string capitalize()"
   ]
  },
  {
   "cell_type": "code",
   "execution_count": 1,
   "id": "4224c30c",
   "metadata": {},
   "outputs": [
    {
     "name": "stdout",
     "output_type": "stream",
     "text": [
      "Prathyush\n"
     ]
    }
   ],
   "source": [
    "name = 'prathyush'\n",
    "new_name = name.capitalize()\n",
    "print(new_name)"
   ]
  },
  {
   "cell_type": "code",
   "execution_count": 5,
   "id": "24e93b69",
   "metadata": {},
   "outputs": [
    {
     "name": "stdout",
     "output_type": "stream",
     "text": [
      "your location is Kerala\n"
     ]
    }
   ],
   "source": [
    "location = 'kerala'\n",
    "capitalized_location = location.capitalize()\n",
    "print('your location is' , capitalized_location)"
   ]
  },
  {
   "cell_type": "markdown",
   "id": "53f38bcd",
   "metadata": {},
   "source": [
    "## 2. Python string casefold()"
   ]
  },
  {
   "cell_type": "code",
   "execution_count": 7,
   "id": "c8252f79",
   "metadata": {},
   "outputs": [
    {
     "name": "stdout",
     "output_type": "stream",
     "text": [
      "hey there\n"
     ]
    }
   ],
   "source": [
    "string = 'Hey There'\n",
    "low_string = string.casefold()\n",
    "print(low_string)"
   ]
  },
  {
   "cell_type": "code",
   "execution_count": 18,
   "id": "a2ff681a",
   "metadata": {
    "scrolled": false
   },
   "outputs": [
    {
     "name": "stdout",
     "output_type": "stream",
     "text": [
      "area =  length  *  breadth\n"
     ]
    }
   ],
   "source": [
    "x = 'LENGTH'\n",
    "y = 'BREADTH'\n",
    "low_x = x.casefold()\n",
    "low_y = y.casefold()\n",
    "print('area = ' , low_x ,' * ' , low_y)\n",
    "\n"
   ]
  },
  {
   "cell_type": "markdown",
   "id": "fd9ee370",
   "metadata": {},
   "source": [
    "## 3. Python string center()"
   ]
  },
  {
   "cell_type": "code",
   "execution_count": 23,
   "id": "7ab63c0e",
   "metadata": {},
   "outputs": [
    {
     "name": "stdout",
     "output_type": "stream",
     "text": [
      "*********India**********\n"
     ]
    }
   ],
   "source": [
    "country = 'India'\n",
    "cen_country = country.center(24,'*')\n",
    "print(cen_country)"
   ]
  },
  {
   "cell_type": "code",
   "execution_count": 24,
   "id": "068e41ba",
   "metadata": {},
   "outputs": [
    {
     "name": "stdout",
     "output_type": "stream",
     "text": [
      "-----------superdry-----------\n"
     ]
    }
   ],
   "source": [
    "brand = 'superdry'\n",
    "cen_brand = brand.center(30,\"-\")\n",
    "print(cen_brand)"
   ]
  },
  {
   "cell_type": "markdown",
   "id": "1c73d503",
   "metadata": {},
   "source": [
    "## 4. Python string count()"
   ]
  },
  {
   "cell_type": "code",
   "execution_count": 25,
   "id": "02e7dfdc",
   "metadata": {},
   "outputs": [
    {
     "name": "stdout",
     "output_type": "stream",
     "text": [
      "no. of times repeated is:  3\n"
     ]
    }
   ],
   "source": [
    "lyrics = 'dream of para para paradise'\n",
    "repeat = 'para'\n",
    "count = lyrics.count(repeat)\n",
    "print('no. of times repeated is: ' , count)"
   ]
  },
  {
   "cell_type": "code",
   "execution_count": 29,
   "id": "b8cc5402",
   "metadata": {},
   "outputs": [
    {
     "name": "stdout",
     "output_type": "stream",
     "text": [
      "no of i's in mississippi is:  4\n"
     ]
    }
   ],
   "source": [
    "word = 'mississippi'\n",
    "repeat = 'i'\n",
    "count = word.count(repeat)\n",
    "print(\"no of i's in mississippi is: \" , count )"
   ]
  },
  {
   "cell_type": "markdown",
   "id": "44dd67fc",
   "metadata": {},
   "source": [
    "## 5. Python string endswith()"
   ]
  },
  {
   "cell_type": "code",
   "execution_count": 35,
   "id": "9fdcf4bb",
   "metadata": {},
   "outputs": [
    {
     "name": "stdout",
     "output_type": "stream",
     "text": [
      "False\n",
      "True\n"
     ]
    }
   ],
   "source": [
    "sentence = (\"kerela is god's own country.\")\n",
    "ends = sentence.endswith('country')\n",
    "print(ends)\n",
    "endss = sentence.endswith('country.')\n",
    "print(endss)"
   ]
  },
  {
   "cell_type": "code",
   "execution_count": 36,
   "id": "d2194f3b",
   "metadata": {
    "scrolled": true
   },
   "outputs": [
    {
     "name": "stdout",
     "output_type": "stream",
     "text": [
      "False\n"
     ]
    }
   ],
   "source": [
    "quote = 'live a life you will remember'\n",
    "end = quote.endswith('remember.')\n",
    "print(end)"
   ]
  },
  {
   "cell_type": "markdown",
   "id": "482890d3",
   "metadata": {},
   "source": [
    "## 6. Python string expandtabs()"
   ]
  },
  {
   "cell_type": "code",
   "execution_count": 37,
   "id": "fa518ba9",
   "metadata": {},
   "outputs": [
    {
     "name": "stdout",
     "output_type": "stream",
     "text": [
      "name    age     place\n"
     ]
    }
   ],
   "source": [
    "details = 'name\\tage\\tplace'\n",
    "tab_details = details.expandtabs()\n",
    "print(tab_details)"
   ]
  },
  {
   "cell_type": "code",
   "execution_count": 38,
   "id": "a3955428",
   "metadata": {},
   "outputs": [
    {
     "name": "stdout",
     "output_type": "stream",
     "text": [
      "1   2   3   3   4   5\n"
     ]
    }
   ],
   "source": [
    "numbers = '1\\t2\\t3\\t3\\t4\\t5'\n",
    "tab_num = numbers.expandtabs(4)\n",
    "print(tab_num)"
   ]
  },
  {
   "cell_type": "markdown",
   "id": "a78fe2c6",
   "metadata": {},
   "source": [
    "## 7. Python string find()"
   ]
  },
  {
   "cell_type": "code",
   "execution_count": 39,
   "id": "334a3e5e",
   "metadata": {},
   "outputs": [
    {
     "name": "stdout",
     "output_type": "stream",
     "text": [
      "12\n"
     ]
    }
   ],
   "source": [
    "word = 'once upon a time'\n",
    "to_find = word.find('time')\n",
    "print(to_find)"
   ]
  },
  {
   "cell_type": "code",
   "execution_count": 40,
   "id": "10ce6c8b",
   "metadata": {},
   "outputs": [
    {
     "name": "stdout",
     "output_type": "stream",
     "text": [
      "-1\n"
     ]
    }
   ],
   "source": [
    "word = 'scared to be lonely'\n",
    "to_find = word.find('afraid')\n",
    "print(to_find)"
   ]
  },
  {
   "cell_type": "markdown",
   "id": "14684c12",
   "metadata": {},
   "source": [
    "## 8. Python string format() "
   ]
  },
  {
   "cell_type": "code",
   "execution_count": 1,
   "id": "579fc6a2",
   "metadata": {},
   "outputs": [
    {
     "name": "stdout",
     "output_type": "stream",
     "text": [
      "enter your name: prathyush\n",
      "enter your age: 22\n",
      "your name is prathyush , your age is 22.\n"
     ]
    }
   ],
   "source": [
    "name = input('enter your name: ')\n",
    "age = input('enter your age: ')\n",
    "print('your name is {} , your age is {}.'.format(name,age))"
   ]
  },
  {
   "cell_type": "code",
   "execution_count": 2,
   "id": "727ff12a",
   "metadata": {},
   "outputs": [
    {
     "name": "stdout",
     "output_type": "stream",
     "text": [
      "hey prathyush , you are from kannur.\n"
     ]
    }
   ],
   "source": [
    "print('hey {name} , you are from {place}.'.format(name='prathyush' , place='kannur'))"
   ]
  },
  {
   "cell_type": "markdown",
   "id": "9b041bd5",
   "metadata": {},
   "source": [
    "## 9. Python string format_map()"
   ]
  },
  {
   "cell_type": "code",
   "execution_count": 4,
   "id": "d894e3ab",
   "metadata": {},
   "outputs": [
    {
     "name": "stdout",
     "output_type": "stream",
     "text": [
      "8 10\n"
     ]
    }
   ],
   "source": [
    "numbers = {'x':8,'y':10}\n",
    "print('{x} {y}'.format_map(numbers))"
   ]
  },
  {
   "cell_type": "code",
   "execution_count": 7,
   "id": "9da0b7e6",
   "metadata": {},
   "outputs": [
    {
     "name": "stdout",
     "output_type": "stream",
     "text": [
      "110 899\n"
     ]
    }
   ],
   "source": [
    "numbers = {'x':110,'y':899}\n",
    "print('{x} {y}'.format_map(numbers))"
   ]
  },
  {
   "cell_type": "markdown",
   "id": "1da8e6a0",
   "metadata": {},
   "source": [
    "## 10. Python string index()"
   ]
  },
  {
   "cell_type": "code",
   "execution_count": 14,
   "id": "c28012ed",
   "metadata": {},
   "outputs": [
    {
     "name": "stdout",
     "output_type": "stream",
     "text": [
      "know starts from: 14\n"
     ]
    }
   ],
   "source": [
    "word = 'little do you know'\n",
    "result = word.index('know')\n",
    "print('know starts from:' , result)"
   ]
  },
  {
   "cell_type": "code",
   "execution_count": 16,
   "id": "a67609fc",
   "metadata": {},
   "outputs": [
    {
     "name": "stdout",
     "output_type": "stream",
     "text": [
      "desperate starts from 6\n"
     ]
    }
   ],
   "source": [
    "word = 'he is desperate'\n",
    "result = word.index('desperate')\n",
    "print('desperate starts from' , result)"
   ]
  },
  {
   "cell_type": "markdown",
   "id": "54fd3ed8",
   "metadata": {},
   "source": [
    "## 11. Python string isalnum()"
   ]
  },
  {
   "cell_type": "code",
   "execution_count": 17,
   "id": "e01524e4",
   "metadata": {},
   "outputs": [
    {
     "name": "stdout",
     "output_type": "stream",
     "text": [
      "True\n"
     ]
    }
   ],
   "source": [
    "name = 'prathyush'\n",
    "names = name.isalnum()\n",
    "print(names)\n"
   ]
  },
  {
   "cell_type": "code",
   "execution_count": 21,
   "id": "ac716d6d",
   "metadata": {},
   "outputs": [
    {
     "name": "stdout",
     "output_type": "stream",
     "text": [
      "True\n",
      "False\n"
     ]
    }
   ],
   "source": [
    "name = 'pra25yush'\n",
    "names = name.isalnum()\n",
    "print(names)\n",
    "namee = 'pra 23yush'\n",
    "nameee = namee.isalnum()\n",
    "print(nameee)"
   ]
  },
  {
   "cell_type": "markdown",
   "id": "ea65c4c9",
   "metadata": {},
   "source": [
    "## 12. Python string isalpha()"
   ]
  },
  {
   "cell_type": "code",
   "execution_count": 23,
   "id": "affefcce",
   "metadata": {},
   "outputs": [
    {
     "name": "stdout",
     "output_type": "stream",
     "text": [
      "True\n"
     ]
    }
   ],
   "source": [
    "place = 'france'\n",
    "placee = place.isalpha()\n",
    "print(placee)"
   ]
  },
  {
   "cell_type": "code",
   "execution_count": 25,
   "id": "b8968d17",
   "metadata": {},
   "outputs": [
    {
     "name": "stdout",
     "output_type": "stream",
     "text": [
      "False\n",
      "False\n"
     ]
    }
   ],
   "source": [
    "place = 'fran ce'\n",
    "placee = place.isalpha()\n",
    "print(placee)\n",
    "places = 'fran2e'\n",
    "placess = places.isalpha()\n",
    "print(placess)"
   ]
  },
  {
   "cell_type": "markdown",
   "id": "990a726f",
   "metadata": {},
   "source": [
    "## 13. Python string isdecimal()"
   ]
  },
  {
   "cell_type": "code",
   "execution_count": 28,
   "id": "28987545",
   "metadata": {},
   "outputs": [
    {
     "name": "stdout",
     "output_type": "stream",
     "text": [
      "True\n",
      "False\n"
     ]
    }
   ],
   "source": [
    "number = '20'\n",
    "result = number.isdecimal()\n",
    "print(result)\n",
    "numbers= '-25'\n",
    "results = numbers.isdecimal()\n",
    "print(results)"
   ]
  },
  {
   "cell_type": "code",
   "execution_count": 29,
   "id": "231c42d9",
   "metadata": {},
   "outputs": [
    {
     "name": "stdout",
     "output_type": "stream",
     "text": [
      "False\n"
     ]
    }
   ],
   "source": [
    "number = '25.33'\n",
    "result = number.isdecimal()\n",
    "print(result)"
   ]
  },
  {
   "cell_type": "markdown",
   "id": "a20c1fcf",
   "metadata": {},
   "source": [
    "## 14. Python string isdigit()"
   ]
  },
  {
   "cell_type": "code",
   "execution_count": 30,
   "id": "6efd9edf",
   "metadata": {},
   "outputs": [
    {
     "name": "stdout",
     "output_type": "stream",
     "text": [
      "False\n"
     ]
    }
   ],
   "source": [
    "name = 'adithy123a'\n",
    "result = name.isdigit()\n",
    "print(result)"
   ]
  },
  {
   "cell_type": "code",
   "execution_count": 31,
   "id": "8a99eab6",
   "metadata": {},
   "outputs": [
    {
     "name": "stdout",
     "output_type": "stream",
     "text": [
      "True\n"
     ]
    }
   ],
   "source": [
    "name = '121212'\n",
    "result = name.isdigit()\n",
    "print(result)"
   ]
  },
  {
   "cell_type": "markdown",
   "id": "248504c1",
   "metadata": {},
   "source": [
    "## 15. Python string isidentifier()"
   ]
  },
  {
   "cell_type": "code",
   "execution_count": 36,
   "id": "1b5d7fcc",
   "metadata": {},
   "outputs": [
    {
     "name": "stdout",
     "output_type": "stream",
     "text": [
      "True\n"
     ]
    }
   ],
   "source": [
    "idd = 'continue'\n",
    "iddd = idd.isidentifier()\n",
    "print(iddd)"
   ]
  },
  {
   "cell_type": "code",
   "execution_count": 39,
   "id": "bb06bf9c",
   "metadata": {},
   "outputs": [
    {
     "name": "stdout",
     "output_type": "stream",
     "text": [
      "False\n",
      "True\n"
     ]
    }
   ],
   "source": [
    "idd = 'prath yush'\n",
    "iddd = idd.isidentifier()\n",
    "print(iddd)\n",
    "word = 'elif'\n",
    "result = word.isidentifier()\n",
    "print(result)\n"
   ]
  },
  {
   "cell_type": "markdown",
   "id": "75816dc0",
   "metadata": {},
   "source": [
    "## 16. Python string islower()"
   ]
  },
  {
   "cell_type": "code",
   "execution_count": 41,
   "id": "c926dec5",
   "metadata": {},
   "outputs": [
    {
     "name": "stdout",
     "output_type": "stream",
     "text": [
      "False\n"
     ]
    }
   ],
   "source": [
    "name = 'Rohan'\n",
    "result = name.islower()\n",
    "print(result)"
   ]
  },
  {
   "cell_type": "code",
   "execution_count": 44,
   "id": "e87d72a9",
   "metadata": {},
   "outputs": [
    {
     "name": "stdout",
     "output_type": "stream",
     "text": [
      "True\n"
     ]
    }
   ],
   "source": [
    "name = 'rohan'\n",
    "result = name.islower()\n",
    "print(result)"
   ]
  },
  {
   "cell_type": "markdown",
   "id": "32da1901",
   "metadata": {},
   "source": [
    "## 17. Python string isnumeric()"
   ]
  },
  {
   "cell_type": "code",
   "execution_count": 45,
   "id": "fe9ec9b6",
   "metadata": {},
   "outputs": [
    {
     "name": "stdout",
     "output_type": "stream",
     "text": [
      "True\n"
     ]
    }
   ],
   "source": [
    "number = '1245'\n",
    "result = number.isnumeric()\n",
    "print(result)"
   ]
  },
  {
   "cell_type": "code",
   "execution_count": 47,
   "id": "3ef10447",
   "metadata": {},
   "outputs": [
    {
     "name": "stdout",
     "output_type": "stream",
     "text": [
      "False\n"
     ]
    }
   ],
   "source": [
    "number = 'lko36'\n",
    "result = number.isnumeric()\n",
    "print(result)"
   ]
  },
  {
   "cell_type": "markdown",
   "id": "83dcba1b",
   "metadata": {},
   "source": [
    "## 18. Python string isprintable()"
   ]
  },
  {
   "cell_type": "code",
   "execution_count": 51,
   "id": "9bb79833",
   "metadata": {},
   "outputs": [
    {
     "name": "stdout",
     "output_type": "stream",
     "text": [
      "can print\n"
     ]
    }
   ],
   "source": [
    "x = 'ola nenos'\n",
    "if x.isprintable() == True:\n",
    "    print('can print')\n",
    "else:\n",
    "    print('cannot print')"
   ]
  },
  {
   "cell_type": "code",
   "execution_count": 52,
   "id": "6253d90d",
   "metadata": {},
   "outputs": [
    {
     "name": "stdout",
     "output_type": "stream",
     "text": [
      "False\n"
     ]
    }
   ],
   "source": [
    "x = chr(25)\n",
    "y = x.isprintable()\n",
    "print(y)"
   ]
  },
  {
   "cell_type": "markdown",
   "id": "2d007c60",
   "metadata": {},
   "source": [
    "## 19. Python string isspace()"
   ]
  },
  {
   "cell_type": "code",
   "execution_count": 54,
   "id": "fa0dae38",
   "metadata": {},
   "outputs": [
    {
     "name": "stdout",
     "output_type": "stream",
     "text": [
      "False\n"
     ]
    }
   ],
   "source": [
    "x = 'workit'\n",
    "y = x.isspace()\n",
    "print(y)"
   ]
  },
  {
   "cell_type": "code",
   "execution_count": 58,
   "id": "7f1bb58c",
   "metadata": {},
   "outputs": [
    {
     "name": "stdout",
     "output_type": "stream",
     "text": [
      "True\n"
     ]
    }
   ],
   "source": [
    "x = ' \\n '\n",
    "y = x.isspace()\n",
    "print(y)"
   ]
  },
  {
   "cell_type": "markdown",
   "id": "332c2abc",
   "metadata": {},
   "source": [
    "## 20. Python string istitle()"
   ]
  },
  {
   "cell_type": "code",
   "execution_count": 59,
   "id": "36cc8711",
   "metadata": {},
   "outputs": [
    {
     "name": "stdout",
     "output_type": "stream",
     "text": [
      "True\n"
     ]
    }
   ],
   "source": [
    "title = 'Grown Ups'\n",
    "result = title.istitle()\n",
    "print(result)"
   ]
  },
  {
   "cell_type": "code",
   "execution_count": 60,
   "id": "7388fbb4",
   "metadata": {},
   "outputs": [
    {
     "name": "stdout",
     "output_type": "stream",
     "text": [
      "it is not a title\n"
     ]
    }
   ],
   "source": [
    "x = 'grown Ups'\n",
    "if x.istitle == True:\n",
    "    print('it is a title')\n",
    "else:\n",
    "    print('it is not a title')"
   ]
  },
  {
   "cell_type": "markdown",
   "id": "13a1ba50",
   "metadata": {},
   "source": [
    "## 21. Python string isupper()"
   ]
  },
  {
   "cell_type": "code",
   "execution_count": 62,
   "id": "0bb32816",
   "metadata": {},
   "outputs": [
    {
     "name": "stdout",
     "output_type": "stream",
     "text": [
      "False\n"
     ]
    }
   ],
   "source": [
    "name = 'Prathyush'\n",
    "result = name.isupper()\n",
    "print(result)"
   ]
  },
  {
   "cell_type": "code",
   "execution_count": 63,
   "id": "d649795b",
   "metadata": {},
   "outputs": [
    {
     "name": "stdout",
     "output_type": "stream",
     "text": [
      "is upper\n"
     ]
    }
   ],
   "source": [
    "x = 'PRATHYUSH'\n",
    "if x.isupper() == True:\n",
    "    print('is upper')\n",
    "else:\n",
    "    print('is not upper')"
   ]
  },
  {
   "cell_type": "markdown",
   "id": "92466629",
   "metadata": {},
   "source": [
    "## 22. Python string join()"
   ]
  },
  {
   "cell_type": "code",
   "execution_count": 66,
   "id": "36cc3657",
   "metadata": {},
   "outputs": [
    {
     "name": "stdout",
     "output_type": "stream",
     "text": [
      "1,2,3\n"
     ]
    }
   ],
   "source": [
    "numbers = ['1','2', '3']\n",
    "include = ','\n",
    "print(include.join(numbers))"
   ]
  },
  {
   "cell_type": "code",
   "execution_count": 67,
   "id": "f741bb00",
   "metadata": {},
   "outputs": [
    {
     "name": "stdout",
     "output_type": "stream",
     "text": [
      "prathyu<>pranav\n"
     ]
    }
   ],
   "source": [
    "names = {'prathyu', 'pranav'}\n",
    "include = '<>'\n",
    "print(include.join(names))"
   ]
  },
  {
   "cell_type": "markdown",
   "id": "1a843329",
   "metadata": {},
   "source": [
    "## 23. Python string ljust()"
   ]
  },
  {
   "cell_type": "code",
   "execution_count": 71,
   "id": "d4677a06",
   "metadata": {},
   "outputs": [
    {
     "name": "stdout",
     "output_type": "stream",
     "text": [
      "prathyush                 name\n"
     ]
    }
   ],
   "source": [
    "name = 'prathyush'\n",
    "width = 25\n",
    "print(name.ljust(width), 'name')"
   ]
  },
  {
   "cell_type": "code",
   "execution_count": 73,
   "id": "f0331993",
   "metadata": {},
   "outputs": [
    {
     "name": "stdout",
     "output_type": "stream",
     "text": [
      "pranav$$$$$$$$$$$$$$$$$$$\n"
     ]
    }
   ],
   "source": [
    "name = 'pranav'\n",
    "width = 25\n",
    "fillchar = '$'\n",
    "print(name.ljust(width,fillchar))"
   ]
  },
  {
   "cell_type": "markdown",
   "id": "0b45ea5e",
   "metadata": {},
   "source": [
    "## 24. Python string partition()"
   ]
  },
  {
   "cell_type": "code",
   "execution_count": 79,
   "id": "6b543f17",
   "metadata": {},
   "outputs": [
    {
     "name": "stdout",
     "output_type": "stream",
     "text": [
      "('Let ', 'her', ' go')\n"
     ]
    }
   ],
   "source": [
    "sentence = 'Let her go'\n",
    "print(sentence.partition('her'))"
   ]
  },
  {
   "cell_type": "code",
   "execution_count": 80,
   "id": "78b5b8aa",
   "metadata": {},
   "outputs": [
    {
     "name": "stdout",
     "output_type": "stream",
     "text": [
      "('who am ', 'I', '?')\n"
     ]
    }
   ],
   "source": [
    "sentence = 'who am I?'\n",
    "print(sentence.partition('I'))"
   ]
  },
  {
   "cell_type": "markdown",
   "id": "2a9986d4",
   "metadata": {},
   "source": [
    "## 25. Python string replace()"
   ]
  },
  {
   "cell_type": "code",
   "execution_count": 82,
   "id": "4418bcfd",
   "metadata": {},
   "outputs": [
    {
     "name": "stdout",
     "output_type": "stream",
     "text": [
      "tittte things\n"
     ]
    }
   ],
   "source": [
    "phrase = 'little things'\n",
    "rep = phrase.replace('l','t')\n",
    "print(rep)"
   ]
  },
  {
   "cell_type": "code",
   "execution_count": 83,
   "id": "6769a1c2",
   "metadata": {},
   "outputs": [
    {
     "name": "stdout",
     "output_type": "stream",
     "text": [
      "mhat do you mean?\n"
     ]
    }
   ],
   "source": [
    "phrase = 'what do you mean?'\n",
    "rep = phrase.replace('w','m')\n",
    "print(rep)"
   ]
  },
  {
   "cell_type": "code",
   "execution_count": null,
   "id": "16fbeff0",
   "metadata": {},
   "outputs": [],
   "source": [
    "# Python3 code to move all zeroes\n",
    "# at the end of array\n",
    "\n",
    "# Function which pushes all\n",
    "# zeros to end of an array.\n",
    "def pushZerosToEnd(arr, n):\n",
    "\tcount = 0 # Count of non-zero elements\n",
    "\t\n",
    "\t# Traverse the array. If element\n",
    "\t# encountered is non-zero, then\n",
    "\t# replace the element at index\n",
    "\t# 'count' with this element\n",
    "\tfor i in range(n):\n",
    "\t\tif arr[i] != 0:\n",
    "\t\t\t\n",
    "\t\t\t# here count is incremented\n",
    "\t\t\tarr[count] = arr[i]\n",
    "\t\t\tcount+=1\n",
    "\t\n",
    "\t# Now all non-zero elements have been\n",
    "\t# shifted to front and 'count' is set\n",
    "\t# as index of first 0. Make all\n",
    "\t# elements 0 from count to end.\n",
    "\twhile count < n:\n",
    "\t\tarr[count] = 0\n",
    "\t\tcount += 1\n",
    "\t\t\n",
    "# Driver code\n",
    "arr = (input['sss'])\n",
    "n = len(arr)\n",
    "pushZerosToEnd(arr, n)\n",
    "print(\"Array after pushing all zeros to end of array:\")\n",
    "print(arr)\n",
    "\n",
    "# This code is contributed by \"Abhishek Sharma 44\"\n"
   ]
  },
  {
   "cell_type": "code",
   "execution_count": null,
   "id": "e73111be",
   "metadata": {},
   "outputs": [],
   "source": []
  },
  {
   "cell_type": "code",
   "execution_count": null,
   "id": "780ad2b0",
   "metadata": {},
   "outputs": [],
   "source": []
  },
  {
   "cell_type": "code",
   "execution_count": null,
   "id": "14ba042b",
   "metadata": {},
   "outputs": [],
   "source": []
  }
 ],
 "metadata": {
  "kernelspec": {
   "display_name": "Python 3",
   "language": "python",
   "name": "python3"
  },
  "language_info": {
   "codemirror_mode": {
    "name": "ipython",
    "version": 3
   },
   "file_extension": ".py",
   "mimetype": "text/x-python",
   "name": "python",
   "nbconvert_exporter": "python",
   "pygments_lexer": "ipython3",
   "version": "3.8.8"
  }
 },
 "nbformat": 4,
 "nbformat_minor": 5
}
