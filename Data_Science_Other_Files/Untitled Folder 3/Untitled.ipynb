{
 "cells": [
  {
   "cell_type": "code",
   "execution_count": 6,
   "id": "67488b17",
   "metadata": {},
   "outputs": [
    {
     "name": "stdout",
     "output_type": "stream",
     "text": [
      "Enter your room name: Mahishmathi\n",
      "Mahishmathi is commanded by dynamic directors.\n"
     ]
    }
   ],
   "source": [
    "\n",
    "string = input('Enter your room name: ')\n",
    "\n",
    "vowel = 'aeiou'\n",
    "endwith = 'y'\n",
    "if string[0].lower() in vowel:\n",
    "   print(string,'Asgard is commanded by cool HRs.')\n",
    "elif string[-1].lower() in endwith:\n",
    "    print(string,'Galaxy is commanded by awesome techies.')\n",
    "else:\n",
    "   print(string,'is commanded by dynamic directors.')"
   ]
  },
  {
   "cell_type": "code",
   "execution_count": null,
   "id": "e8caafe1",
   "metadata": {},
   "outputs": [],
   "source": []
  }
 ],
 "metadata": {
  "kernelspec": {
   "display_name": "Python 3",
   "language": "python",
   "name": "python3"
  }
 },
 "nbformat": 4,
 "nbformat_minor": 5
}
