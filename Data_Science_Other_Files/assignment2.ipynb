{
 "cells": [
  {
   "cell_type": "markdown",
   "id": "a1ad10f0",
   "metadata": {},
   "source": [
    "# Lists"
   ]
  },
  {
   "cell_type": "markdown",
   "id": "6800b7da",
   "metadata": {},
   "source": [
    "## List append()"
   ]
  },
  {
   "cell_type": "code",
   "execution_count": 4,
   "id": "37668969",
   "metadata": {},
   "outputs": [
    {
     "name": "stdout",
     "output_type": "stream",
     "text": [
      "['ramesh', 'suresh', 'mahesh']\n"
     ]
    }
   ],
   "source": [
    "names = ['ramesh' , 'suresh']\n",
    "names.append('mahesh')\n",
    "print(names)"
   ]
  },
  {
   "cell_type": "code",
   "execution_count": 6,
   "id": "5ec96de8",
   "metadata": {},
   "outputs": [
    {
     "name": "stdout",
     "output_type": "stream",
     "text": [
      "['ball', 'bat', 'stumps']\n"
     ]
    }
   ],
   "source": [
    "items = ['ball' , 'bat']\n",
    "items.append('stumps')\n",
    "print(items)"
   ]
  },
  {
   "cell_type": "markdown",
   "id": "846fea87",
   "metadata": {},
   "source": [
    "##  List clear()"
   ]
  },
  {
   "cell_type": "code",
   "execution_count": 9,
   "id": "12d47cf1",
   "metadata": {},
   "outputs": [
    {
     "name": "stdout",
     "output_type": "stream",
     "text": [
      "[]\n"
     ]
    }
   ],
   "source": [
    "animal = ['dog' , 'cat']\n",
    "animal.clear()\n",
    "print(animal)"
   ]
  },
  {
   "cell_type": "code",
   "execution_count": 10,
   "id": "04435399",
   "metadata": {},
   "outputs": [
    {
     "name": "stdout",
     "output_type": "stream",
     "text": [
      "[]\n"
     ]
    }
   ],
   "source": [
    "brand = ['realme' ' redmi']\n",
    "brand.clear()\n",
    "print(brand)"
   ]
  },
  {
   "cell_type": "markdown",
   "id": "84e96f02",
   "metadata": {},
   "source": [
    "## List count()"
   ]
  },
  {
   "cell_type": "code",
   "execution_count": 17,
   "id": "c46ac637",
   "metadata": {},
   "outputs": [
    {
     "name": "stdout",
     "output_type": "stream",
     "text": [
      "3\n"
     ]
    }
   ],
   "source": [
    "number = [1,4,5,6,4,5,1,7,1]\n",
    "count = number.count(1)\n",
    "print(count)\n"
   ]
  },
  {
   "cell_type": "code",
   "execution_count": 18,
   "id": "3cf3c3d9",
   "metadata": {},
   "outputs": [
    {
     "name": "stdout",
     "output_type": "stream",
     "text": [
      "2\n"
     ]
    }
   ],
   "source": [
    "letter = ['a' ,'b ','a' , 'c']\n",
    "count = letter.count('a')\n",
    "print(count)"
   ]
  },
  {
   "cell_type": "markdown",
   "id": "b7e8350e",
   "metadata": {},
   "source": [
    "## List copy()"
   ]
  },
  {
   "cell_type": "code",
   "execution_count": 19,
   "id": "5c1e494b",
   "metadata": {},
   "outputs": [
    {
     "name": "stdout",
     "output_type": "stream",
     "text": [
      "[1, 2, 5, 6]\n"
     ]
    }
   ],
   "source": [
    "list = [1, 2, 5 , 6]\n",
    "new_list = list.copy()\n",
    "print(new_list)"
   ]
  },
  {
   "cell_type": "code",
   "execution_count": 21,
   "id": "15d83d14",
   "metadata": {},
   "outputs": [
    {
     "data": {
      "text/plain": [
       "['cat', 'dog']"
      ]
     },
     "execution_count": 21,
     "metadata": {},
     "output_type": "execute_result"
    }
   ],
   "source": [
    "list = ['cat', 'dog']\n",
    "new_list = list.copy()\n",
    "new_list"
   ]
  },
  {
   "cell_type": "markdown",
   "id": "e0eedc83",
   "metadata": {},
   "source": [
    "## List extend()"
   ]
  },
  {
   "cell_type": "code",
   "execution_count": 29,
   "id": "830c9a03",
   "metadata": {},
   "outputs": [
    {
     "name": "stdout",
     "output_type": "stream",
     "text": [
      "['fan', 'light', 'switch']\n"
     ]
    }
   ],
   "source": [
    "elec = [ 'fan' , 'light' ]\n",
    "elect = ['switch']\n",
    "elec.extend(elect)\n",
    "print(elec)"
   ]
  },
  {
   "cell_type": "code",
   "execution_count": 31,
   "id": "46c55a2e",
   "metadata": {},
   "outputs": [
    {
     "data": {
      "text/plain": [
       "[1, 32, 22, 1, 56, 65]"
      ]
     },
     "execution_count": 31,
     "metadata": {},
     "output_type": "execute_result"
    }
   ],
   "source": [
    "num = [1,32,22]\n",
    "num1 = [1,56,65]\n",
    "num.extend(num1)\n",
    "num"
   ]
  },
  {
   "cell_type": "markdown",
   "id": "43ff9323",
   "metadata": {},
   "source": [
    "## List index()"
   ]
  },
  {
   "cell_type": "code",
   "execution_count": 32,
   "id": "38086266",
   "metadata": {},
   "outputs": [
    {
     "data": {
      "text/plain": [
       "1"
      ]
     },
     "execution_count": 32,
     "metadata": {},
     "output_type": "execute_result"
    }
   ],
   "source": [
    "list = [1,2,55,66,22]\n",
    "index = list.index(2)\n",
    "index"
   ]
  },
  {
   "cell_type": "code",
   "execution_count": 34,
   "id": "fed1322d",
   "metadata": {},
   "outputs": [
    {
     "data": {
      "text/plain": [
       "2"
      ]
     },
     "execution_count": 34,
     "metadata": {},
     "output_type": "execute_result"
    }
   ],
   "source": [
    "list = ['a','b','h']\n",
    "index = list.index('h')\n",
    "index"
   ]
  },
  {
   "cell_type": "markdown",
   "id": "e78bd7c4",
   "metadata": {},
   "source": [
    "## List insert()"
   ]
  },
  {
   "cell_type": "code",
   "execution_count": 56,
   "id": "de564cf3",
   "metadata": {},
   "outputs": [
    {
     "name": "stdout",
     "output_type": "stream",
     "text": [
      "['r', 'a', 'k']\n"
     ]
    }
   ],
   "source": [
    "letter = ['r', 'a']\n",
    "letter.insert(3, 'k')\n",
    "print(letter)"
   ]
  },
  {
   "cell_type": "code",
   "execution_count": 58,
   "id": "a5259349",
   "metadata": {},
   "outputs": [
    {
     "data": {
      "text/plain": [
       "[1, 2, 55, 55, 58]"
      ]
     },
     "execution_count": 58,
     "metadata": {},
     "output_type": "execute_result"
    }
   ],
   "source": [
    "numbers = [1,2,55,55]\n",
    "numbers.insert(4,58)\n",
    "numbers"
   ]
  },
  {
   "cell_type": "markdown",
   "id": "3391a3b7",
   "metadata": {},
   "source": [
    "## List pop()"
   ]
  },
  {
   "cell_type": "code",
   "execution_count": 59,
   "id": "f5ca8557",
   "metadata": {},
   "outputs": [
    {
     "data": {
      "text/plain": [
       "[1, 5, 4]"
      ]
     },
     "execution_count": 59,
     "metadata": {},
     "output_type": "execute_result"
    }
   ],
   "source": [
    "lists = [1,5,4,5]\n",
    "lists.pop(3)\n",
    "lists"
   ]
  },
  {
   "cell_type": "code",
   "execution_count": 60,
   "id": "795c3cb0",
   "metadata": {},
   "outputs": [
    {
     "data": {
      "text/plain": [
       "['zayn', 'harry']"
      ]
     },
     "execution_count": 60,
     "metadata": {},
     "output_type": "execute_result"
    }
   ],
   "source": [
    "artists = ['zayn','sia','harry']\n",
    "artists.pop(1)\n",
    "artists"
   ]
  },
  {
   "cell_type": "markdown",
   "id": "97536389",
   "metadata": {},
   "source": [
    "## List removal()"
   ]
  },
  {
   "cell_type": "code",
   "execution_count": 61,
   "id": "c8f8ae54",
   "metadata": {},
   "outputs": [
    {
     "data": {
      "text/plain": [
       "[1, 2, 8]"
      ]
     },
     "execution_count": 61,
     "metadata": {},
     "output_type": "execute_result"
    }
   ],
   "source": [
    "num = [1,2,5,8]\n",
    "num.remove(5)\n",
    "num"
   ]
  },
  {
   "cell_type": "code",
   "execution_count": 63,
   "id": "11941828",
   "metadata": {},
   "outputs": [
    {
     "data": {
      "text/plain": [
       "['g', 'l']"
      ]
     },
     "execution_count": 63,
     "metadata": {},
     "output_type": "execute_result"
    }
   ],
   "source": [
    "letters = ['g','l','k']\n",
    "letters.remove('k')\n",
    "letters"
   ]
  },
  {
   "cell_type": "markdown",
   "id": "a44e4633",
   "metadata": {},
   "source": [
    "## List reverse()"
   ]
  },
  {
   "cell_type": "code",
   "execution_count": 65,
   "id": "db22ce3f",
   "metadata": {},
   "outputs": [
    {
     "data": {
      "text/plain": [
       "[4, 6, 5, 2, 1]"
      ]
     },
     "execution_count": 65,
     "metadata": {},
     "output_type": "execute_result"
    }
   ],
   "source": [
    "lists = [1,2,5,6,4]\n",
    "lists.reverse()\n",
    "lists"
   ]
  },
  {
   "cell_type": "code",
   "execution_count": 67,
   "id": "a787e89e",
   "metadata": {},
   "outputs": [
    {
     "data": {
      "text/plain": [
       "['selena', 'susan']"
      ]
     },
     "execution_count": 67,
     "metadata": {},
     "output_type": "execute_result"
    }
   ],
   "source": [
    "names = ['susan', 'selena']\n",
    "names.reverse()\n",
    "names"
   ]
  },
  {
   "cell_type": "markdown",
   "id": "36c64b1e",
   "metadata": {},
   "source": [
    "## List sort()"
   ]
  },
  {
   "cell_type": "code",
   "execution_count": 68,
   "id": "4ab922fa",
   "metadata": {},
   "outputs": [
    {
     "data": {
      "text/plain": [
       "[25, 48, 56, 58, 68, 87, 95]"
      ]
     },
     "execution_count": 68,
     "metadata": {},
     "output_type": "execute_result"
    }
   ],
   "source": [
    "ascending = [56,87,58,68,95,25,48]\n",
    "ascending.sort()\n",
    "ascending"
   ]
  },
  {
   "cell_type": "code",
   "execution_count": 69,
   "id": "56d138c2",
   "metadata": {},
   "outputs": [
    {
     "data": {
      "text/plain": [
       "[1, 4, 4, 5, 7, 52, 55, 88]"
      ]
     },
     "execution_count": 69,
     "metadata": {},
     "output_type": "execute_result"
    }
   ],
   "source": [
    "num = [4,55,88,52,7,4,1,5]\n",
    "num.sort()\n",
    "num"
   ]
  },
  {
   "cell_type": "markdown",
   "id": "25045918",
   "metadata": {},
   "source": [
    "# Set "
   ]
  },
  {
   "cell_type": "markdown",
   "id": "c1d0cd2e",
   "metadata": {},
   "source": [
    "## Frozen set()"
   ]
  },
  {
   "cell_type": "code",
   "execution_count": 73,
   "id": "ecc12fcb",
   "metadata": {},
   "outputs": [
    {
     "data": {
      "text/plain": [
       "{1, 5, 6, 8}"
      ]
     },
     "execution_count": 73,
     "metadata": {},
     "output_type": "execute_result"
    }
   ],
   "source": [
    "letters = {1,5,6,8}\n",
    "fset = frozenset(letters)\n",
    "letters"
   ]
  },
  {
   "cell_type": "code",
   "execution_count": 74,
   "id": "742c6985",
   "metadata": {},
   "outputs": [
    {
     "data": {
      "text/plain": [
       "{4, 6, 56}"
      ]
     },
     "execution_count": 74,
     "metadata": {},
     "output_type": "execute_result"
    }
   ],
   "source": [
    "letters = {4,56,6}\n",
    "frozenset(letters)\n",
    "letters"
   ]
  },
  {
   "cell_type": "markdown",
   "id": "401ebc1c",
   "metadata": {},
   "source": [
    "## Set add() "
   ]
  },
  {
   "cell_type": "code",
   "execution_count": 75,
   "id": "f7792d52",
   "metadata": {
    "scrolled": true
   },
   "outputs": [
    {
     "data": {
      "text/plain": [
       "{1, 5, 6}"
      ]
     },
     "execution_count": 75,
     "metadata": {},
     "output_type": "execute_result"
    }
   ],
   "source": [
    "num = {1,5}\n",
    "num.add(6)\n",
    "num"
   ]
  },
  {
   "cell_type": "code",
   "execution_count": 76,
   "id": "363ae3ab",
   "metadata": {},
   "outputs": [
    {
     "data": {
      "text/plain": [
       "{'h', 'j', 'k'}"
      ]
     },
     "execution_count": 76,
     "metadata": {},
     "output_type": "execute_result"
    }
   ],
   "source": [
    "letters = {'j','k'}\n",
    "letters.add('h')\n",
    "letters"
   ]
  },
  {
   "cell_type": "markdown",
   "id": "cad23b54",
   "metadata": {},
   "source": [
    "## Set clear"
   ]
  },
  {
   "cell_type": "code",
   "execution_count": 78,
   "id": "f5613b50",
   "metadata": {},
   "outputs": [
    {
     "data": {
      "text/plain": [
       "set()"
      ]
     },
     "execution_count": 78,
     "metadata": {},
     "output_type": "execute_result"
    }
   ],
   "source": [
    "num = {1,5,44,5}\n",
    "num.clear()\n",
    "num"
   ]
  },
  {
   "cell_type": "code",
   "execution_count": 79,
   "id": "240b2824",
   "metadata": {},
   "outputs": [
    {
     "data": {
      "text/plain": [
       "set()"
      ]
     },
     "execution_count": 79,
     "metadata": {},
     "output_type": "execute_result"
    }
   ],
   "source": [
    "letters = {'g','l'}\n",
    "letters.clear()\n",
    "letters"
   ]
  },
  {
   "cell_type": "markdown",
   "id": "bdd857a4",
   "metadata": {},
   "source": [
    "## Set copy"
   ]
  },
  {
   "cell_type": "code",
   "execution_count": 80,
   "id": "7a2a5a53",
   "metadata": {},
   "outputs": [
    {
     "data": {
      "text/plain": [
       "{'pranav', 'prathyu'}"
      ]
     },
     "execution_count": 80,
     "metadata": {},
     "output_type": "execute_result"
    }
   ],
   "source": [
    "names = {'prathyu', 'pranav'}\n",
    "new_names = names.copy()\n",
    "new_names"
   ]
  },
  {
   "cell_type": "code",
   "execution_count": 81,
   "id": "d1710056",
   "metadata": {},
   "outputs": [
    {
     "data": {
      "text/plain": [
       "{2, 4, 5, 8}"
      ]
     },
     "execution_count": 81,
     "metadata": {},
     "output_type": "execute_result"
    }
   ],
   "source": [
    "numbers = {4,5,8,2,5}\n",
    "new_numbers = numbers.copy()\n",
    "new_numbers"
   ]
  },
  {
   "cell_type": "markdown",
   "id": "3a26a217",
   "metadata": {},
   "source": [
    "## Set difference()"
   ]
  },
  {
   "cell_type": "code",
   "execution_count": 82,
   "id": "f1959ff1",
   "metadata": {},
   "outputs": [
    {
     "name": "stdout",
     "output_type": "stream",
     "text": [
      "{'a', 'j', 'g'}\n"
     ]
    }
   ],
   "source": [
    "a = {'a','g' ,'j'}\n",
    "b = {'h','o','p'}\n",
    "print(a.difference(b))"
   ]
  },
  {
   "cell_type": "code",
   "execution_count": 83,
   "id": "d5af5c6e",
   "metadata": {},
   "outputs": [
    {
     "name": "stdout",
     "output_type": "stream",
     "text": [
      "{8, 90}\n"
     ]
    }
   ],
   "source": [
    "a = {1,5,4}\n",
    "b= {5,8,90}\n",
    "print(b.difference(a))"
   ]
  },
  {
   "cell_type": "markdown",
   "id": "cd6e6fa1",
   "metadata": {},
   "source": [
    "## Set difference_update()"
   ]
  },
  {
   "cell_type": "code",
   "execution_count": 85,
   "id": "7b0bf970",
   "metadata": {},
   "outputs": [
    {
     "name": "stdout",
     "output_type": "stream",
     "text": [
      "None\n"
     ]
    }
   ],
   "source": [
    "a = {1,5,8,4,5}\n",
    "b = {4,5,8,7,54}\n",
    "print(a.difference_update(b))"
   ]
  },
  {
   "cell_type": "code",
   "execution_count": 86,
   "id": "0433d133",
   "metadata": {},
   "outputs": [
    {
     "name": "stdout",
     "output_type": "stream",
     "text": [
      "None\n"
     ]
    }
   ],
   "source": [
    "a = {1,5,8,4,5}\n",
    "b = {4,5,8,7,54}\n",
    "print(b.difference_update(a))"
   ]
  },
  {
   "cell_type": "markdown",
   "id": "407ecb05",
   "metadata": {},
   "source": [
    "## Set discard()"
   ]
  },
  {
   "cell_type": "code",
   "execution_count": 96,
   "id": "087a6001",
   "metadata": {},
   "outputs": [
    {
     "name": "stdout",
     "output_type": "stream",
     "text": [
      "{4, 5, 6}\n"
     ]
    }
   ],
   "source": [
    "a = {4,5,6,3}\n",
    "a.discard(3)\n",
    "print(a)"
   ]
  },
  {
   "cell_type": "code",
   "execution_count": 97,
   "id": "1e85b369",
   "metadata": {},
   "outputs": [
    {
     "name": "stdout",
     "output_type": "stream",
     "text": [
      "{'j', 'y', 'k'}\n"
     ]
    }
   ],
   "source": [
    "a = {'j','l','k','y'}\n",
    "a.discard('l')\n",
    "print(a)"
   ]
  },
  {
   "cell_type": "markdown",
   "id": "8abc5329",
   "metadata": {},
   "source": [
    "## Set intersection()"
   ]
  },
  {
   "cell_type": "code",
   "execution_count": 98,
   "id": "7411e0d6",
   "metadata": {},
   "outputs": [
    {
     "data": {
      "text/plain": [
       "{3, 4, 5, 6}"
      ]
     },
     "execution_count": 98,
     "metadata": {},
     "output_type": "execute_result"
    }
   ],
   "source": [
    "a = {4,5,6,3}\n",
    "b = {4,5,2,8}\n",
    "a.intersection(b)\n",
    "a"
   ]
  },
  {
   "cell_type": "code",
   "execution_count": 99,
   "id": "f414c00f",
   "metadata": {},
   "outputs": [
    {
     "name": "stdout",
     "output_type": "stream",
     "text": [
      "{'l'}\n"
     ]
    }
   ],
   "source": [
    "a = {'j','l','k','y'}\n",
    "b = {'l','u'}\n",
    "print(b.intersection(a))"
   ]
  },
  {
   "cell_type": "markdown",
   "id": "6c3524d5",
   "metadata": {},
   "source": [
    "## Set intersection_update"
   ]
  },
  {
   "cell_type": "code",
   "execution_count": 102,
   "id": "197dc9cc",
   "metadata": {},
   "outputs": [
    {
     "name": "stdout",
     "output_type": "stream",
     "text": [
      "None\n"
     ]
    }
   ],
   "source": [
    "a = {6,5,10,3}\n",
    "b = {4,5,25,8}\n",
    "print(a.intersection_update(b))\n"
   ]
  },
  {
   "cell_type": "code",
   "execution_count": 101,
   "id": "b4d0efa8",
   "metadata": {},
   "outputs": [
    {
     "name": "stdout",
     "output_type": "stream",
     "text": [
      "None\n"
     ]
    }
   ],
   "source": [
    "a = {6,5,10,3}\n",
    "b = {4,5,25,8}\n",
    "print(b.intersection_update(a))\n"
   ]
  },
  {
   "cell_type": "markdown",
   "id": "d215b129",
   "metadata": {},
   "source": [
    "## Set isdisjoint() "
   ]
  },
  {
   "cell_type": "code",
   "execution_count": 104,
   "id": "21dd9c97",
   "metadata": {},
   "outputs": [
    {
     "name": "stdout",
     "output_type": "stream",
     "text": [
      "False\n"
     ]
    }
   ],
   "source": [
    "a = {'g','k'}\n",
    "b = {'g','h'}\n",
    "print(a.isdisjoint(b))"
   ]
  },
  {
   "cell_type": "code",
   "execution_count": 107,
   "id": "88ad25aa",
   "metadata": {},
   "outputs": [
    {
     "name": "stdout",
     "output_type": "stream",
     "text": [
      "True\n"
     ]
    }
   ],
   "source": [
    "A = {'a', 'b', 'c', 'd'}\n",
    "B ={1 : 'a', 2 : 'b'}\n",
    "print(A.isdisjoint(b))\n"
   ]
  },
  {
   "cell_type": "markdown",
   "id": "7160459c",
   "metadata": {},
   "source": [
    "## Set issubset()"
   ]
  },
  {
   "cell_type": "code",
   "execution_count": 108,
   "id": "3eddfe6b",
   "metadata": {},
   "outputs": [
    {
     "name": "stdout",
     "output_type": "stream",
     "text": [
      "False\n"
     ]
    }
   ],
   "source": [
    "a = {4,5,6,2,7,4}\n",
    "b = {4,5,2,8}\n",
    "print(a.issubset(b))"
   ]
  },
  {
   "cell_type": "code",
   "execution_count": 110,
   "id": "82d7c0b6",
   "metadata": {},
   "outputs": [
    {
     "name": "stdout",
     "output_type": "stream",
     "text": [
      "True\n"
     ]
    }
   ],
   "source": [
    "a = {4,5,6,2,7,4}\n",
    "b = {4,5,2,}\n",
    "print(b.issubset(a))"
   ]
  },
  {
   "cell_type": "markdown",
   "id": "b5936a16",
   "metadata": {},
   "source": [
    "## Set pop()"
   ]
  },
  {
   "cell_type": "code",
   "execution_count": 111,
   "id": "e0c3b5c9",
   "metadata": {},
   "outputs": [
    {
     "name": "stdout",
     "output_type": "stream",
     "text": [
      "4\n"
     ]
    }
   ],
   "source": [
    "a = {4,5,4,5}\n",
    "print(a.pop())"
   ]
  },
  {
   "cell_type": "code",
   "execution_count": 112,
   "id": "777d167e",
   "metadata": {},
   "outputs": [
    {
     "name": "stdout",
     "output_type": "stream",
     "text": [
      "8\n"
     ]
    }
   ],
   "source": [
    "a = {4,5,8}\n",
    "print(a.pop())"
   ]
  },
  {
   "cell_type": "markdown",
   "id": "26f3eda0",
   "metadata": {},
   "source": [
    "## Set symmetric_difference()"
   ]
  },
  {
   "cell_type": "code",
   "execution_count": 113,
   "id": "0fa29f6a",
   "metadata": {},
   "outputs": [
    {
     "name": "stdout",
     "output_type": "stream",
     "text": [
      "{'a', 'e', 'b'}\n"
     ]
    }
   ],
   "source": [
    "A = {'a', 'b', 'c', 'd'}\n",
    "B = {'c', 'd', 'e' }\n",
    "print(A.symmetric_difference(B))\n"
   ]
  },
  {
   "cell_type": "code",
   "execution_count": 114,
   "id": "f795b952",
   "metadata": {},
   "outputs": [
    {
     "name": "stdout",
     "output_type": "stream",
     "text": [
      "{'b', 'a', 'e'}\n"
     ]
    }
   ],
   "source": [
    "A = {'a', 'b', 'c', 'd'}\n",
    "B = {'c', 'd', 'e' }\n",
    "print(B.symmetric_difference(A))\n"
   ]
  },
  {
   "cell_type": "markdown",
   "id": "4a2a92ec",
   "metadata": {},
   "source": [
    "# Tuple"
   ]
  },
  {
   "cell_type": "markdown",
   "id": "62db9354",
   "metadata": {},
   "source": [
    "##   Tuple count()"
   ]
  },
  {
   "cell_type": "code",
   "execution_count": 115,
   "id": "3de6b39b",
   "metadata": {},
   "outputs": [
    {
     "name": "stdout",
     "output_type": "stream",
     "text": [
      "4\n"
     ]
    }
   ],
   "source": [
    "num = (4,5,4,8,8,7,4,8,8,5,2)\n",
    "print(num.count(8))"
   ]
  },
  {
   "cell_type": "code",
   "execution_count": 118,
   "id": "6eec1aed",
   "metadata": {},
   "outputs": [
    {
     "name": "stdout",
     "output_type": "stream",
     "text": [
      "2\n"
     ]
    }
   ],
   "source": [
    "a = ('l','k','h','k')\n",
    "print(a.count('k'))"
   ]
  },
  {
   "cell_type": "markdown",
   "id": "bf17a9ec",
   "metadata": {},
   "source": [
    "##  Tuple index()"
   ]
  },
  {
   "cell_type": "code",
   "execution_count": 119,
   "id": "602d2d35",
   "metadata": {},
   "outputs": [
    {
     "name": "stdout",
     "output_type": "stream",
     "text": [
      "1\n"
     ]
    }
   ],
   "source": [
    "a = ('h','k','h')\n",
    "print(a.index('k'))"
   ]
  },
  {
   "cell_type": "code",
   "execution_count": 121,
   "id": "080ef91a",
   "metadata": {},
   "outputs": [
    {
     "name": "stdout",
     "output_type": "stream",
     "text": [
      "3\n"
     ]
    }
   ],
   "source": [
    "num = (4,5,4,8)\n",
    "print(num.index(8))"
   ]
  },
  {
   "cell_type": "markdown",
   "id": "35dfe4ce",
   "metadata": {},
   "source": [
    "# Dictionary"
   ]
  },
  {
   "cell_type": "markdown",
   "id": "942a858d",
   "metadata": {},
   "source": [
    "## Dictionary clear()"
   ]
  },
  {
   "cell_type": "code",
   "execution_count": 122,
   "id": "83137e6b",
   "metadata": {},
   "outputs": [
    {
     "name": "stdout",
     "output_type": "stream",
     "text": [
      "{}\n"
     ]
    }
   ],
   "source": [
    "dic = {1: \"susan\", 2: \"amal\"}\n",
    "dic.clear()\n",
    "print(dic)"
   ]
  },
  {
   "cell_type": "code",
   "execution_count": 124,
   "id": "461f6a5a",
   "metadata": {},
   "outputs": [
    {
     "name": "stdout",
     "output_type": "stream",
     "text": [
      "set()\n"
     ]
    }
   ],
   "source": [
    "dic = {1,2,6}\n",
    "dic.clear()\n",
    "print(dic)"
   ]
  },
  {
   "cell_type": "markdown",
   "id": "4d5437e2",
   "metadata": {},
   "source": [
    "## Dictionary copy()"
   ]
  },
  {
   "cell_type": "code",
   "execution_count": 125,
   "id": "328c5b7e",
   "metadata": {},
   "outputs": [
    {
     "name": "stdout",
     "output_type": "stream",
     "text": [
      "{1: 'susan', 2: 'amal'}\n"
     ]
    }
   ],
   "source": [
    "dic = {1:'susan', 2:'amal'}\n",
    "dics = dic.copy()\n",
    "print(dics)"
   ]
  },
  {
   "cell_type": "code",
   "execution_count": 127,
   "id": "808c34cc",
   "metadata": {},
   "outputs": [
    {
     "name": "stdout",
     "output_type": "stream",
     "text": [
      "{1, 5, 9}\n"
     ]
    }
   ],
   "source": [
    "no = {1,5,5,9}\n",
    "print(no.copy())"
   ]
  },
  {
   "cell_type": "markdown",
   "id": "2b2a3538",
   "metadata": {},
   "source": [
    "## Dictionary fromkeys()"
   ]
  },
  {
   "cell_type": "code",
   "execution_count": 129,
   "id": "e2d30734",
   "metadata": {},
   "outputs": [
    {
     "name": "stdout",
     "output_type": "stream",
     "text": [
      "{'r': None, 'a': None, 'l': None, 'o': None, 'h': None}\n"
     ]
    }
   ],
   "source": [
    "letters = {'a', 'l', 'h', 'o', 'r' }\n",
    "\n",
    "letter = dict.fromkeys(letters)\n",
    "print(letter)"
   ]
  },
  {
   "cell_type": "code",
   "execution_count": 130,
   "id": "a0fa00db",
   "metadata": {},
   "outputs": [
    {
     "name": "stdout",
     "output_type": "stream",
     "text": [
      "{1: None, 4: None, 6: None, 8: None, 9: None}\n"
     ]
    }
   ],
   "source": [
    "num = {1,4,6,8,9}\n",
    "\n",
    "nums = dict.fromkeys(num)\n",
    "print(nums)"
   ]
  },
  {
   "cell_type": "markdown",
   "id": "94fd0dac",
   "metadata": {},
   "source": [
    "## Dictionary get()"
   ]
  },
  {
   "cell_type": "code",
   "execution_count": 131,
   "id": "f7100229",
   "metadata": {},
   "outputs": [
    {
     "name": "stdout",
     "output_type": "stream",
     "text": [
      "57\n"
     ]
    }
   ],
   "source": [
    "weight = {'ram':49, 'vikram':57}\n",
    "print(weight.get('vikram'))"
   ]
  },
  {
   "cell_type": "code",
   "execution_count": 132,
   "id": "7aceebee",
   "metadata": {},
   "outputs": [
    {
     "name": "stdout",
     "output_type": "stream",
     "text": [
      "v\n"
     ]
    }
   ],
   "source": [
    "first_letterr = {'ram':'r', 'vikram':'v'}\n",
    "print(first_letterr.get('vikram'))"
   ]
  },
  {
   "cell_type": "markdown",
   "id": "bf8a0ac2",
   "metadata": {},
   "source": [
    "## Dictionary items()"
   ]
  },
  {
   "cell_type": "code",
   "execution_count": 134,
   "id": "d922e608",
   "metadata": {},
   "outputs": [
    {
     "name": "stdout",
     "output_type": "stream",
     "text": [
      "dict_items([('ravi', 56), ('das', 2)])\n"
     ]
    }
   ],
   "source": [
    "roll_no = {'ravi':56, 'das':2}\n",
    "print(roll_no.items())\n"
   ]
  },
  {
   "cell_type": "code",
   "execution_count": 135,
   "id": "118f34cd",
   "metadata": {},
   "outputs": [
    {
     "name": "stdout",
     "output_type": "stream",
     "text": [
      "dict_items([(25, 56), (85, 2)])\n"
     ]
    }
   ],
   "source": [
    "a = {25:56, 85:2}\n",
    "print(a.items())\n"
   ]
  },
  {
   "cell_type": "markdown",
   "id": "c0602845",
   "metadata": {},
   "source": [
    "## Dictionary keys()"
   ]
  },
  {
   "cell_type": "code",
   "execution_count": 139,
   "id": "6d5b2e07",
   "metadata": {},
   "outputs": [
    {
     "name": "stdout",
     "output_type": "stream",
     "text": [
      "dict_keys(['name', 'age'])\n"
     ]
    }
   ],
   "source": [
    "directory = {'name': 'hemanth', 'age': 56, }\n",
    "dire = directory.keys()\n",
    "print(dire)\n"
   ]
  },
  {
   "cell_type": "code",
   "execution_count": 145,
   "id": "e7916386",
   "metadata": {},
   "outputs": [
    {
     "name": "stdout",
     "output_type": "stream",
     "text": [
      "dict_keys(['j', 'k'])\n"
     ]
    }
   ],
   "source": [
    "num = {'j': 7, 'k': 56, }\n",
    "diree = num.keys()\n",
    "print(diree)"
   ]
  },
  {
   "cell_type": "markdown",
   "id": "2f1de519",
   "metadata": {},
   "source": [
    "## Dictionary popitem()"
   ]
  },
  {
   "cell_type": "code",
   "execution_count": 148,
   "id": "ac8d05f1",
   "metadata": {},
   "outputs": [
    {
     "name": "stdout",
     "output_type": "stream",
     "text": [
      "('number', 278457)\n"
     ]
    }
   ],
   "source": [
    "directorys = {'name': 'john', 'age': 52, 'number': 278457}\n",
    "result = directorys.popitem()\n",
    "\n",
    "print(result)"
   ]
  },
  {
   "cell_type": "code",
   "execution_count": 149,
   "id": "29decf04",
   "metadata": {},
   "outputs": [
    {
     "name": "stdout",
     "output_type": "stream",
     "text": [
      "('weight', 58)\n"
     ]
    }
   ],
   "source": [
    "directorys = {'name': 'john', 'age': 52, 'weight':58}\n",
    "result = directorys.popitem()\n",
    "\n",
    "print(result)"
   ]
  },
  {
   "cell_type": "markdown",
   "id": "4db38c56",
   "metadata": {},
   "source": [
    "## Dictionary setdefault()"
   ]
  },
  {
   "cell_type": "code",
   "execution_count": 152,
   "id": "478938e1",
   "metadata": {},
   "outputs": [
    {
     "data": {
      "text/plain": [
       "32"
      ]
     },
     "execution_count": 152,
     "metadata": {},
     "output_type": "execute_result"
    }
   ],
   "source": [
    "info = {'name': 'johny', 'age': 32}\n",
    "\n",
    "age = info.setdefault('age')\n",
    "age"
   ]
  },
  {
   "cell_type": "code",
   "execution_count": 160,
   "id": "255ca3a1",
   "metadata": {},
   "outputs": [
    {
     "data": {
      "text/plain": [
       "'johny'"
      ]
     },
     "execution_count": 160,
     "metadata": {},
     "output_type": "execute_result"
    }
   ],
   "source": [
    "info = {'name_1': 'johny', 'age': 32}\n",
    "\n",
    "name_02 = info.setdefault('name_1')\n",
    "name_02"
   ]
  },
  {
   "cell_type": "markdown",
   "id": "3c20d5ee",
   "metadata": {},
   "source": [
    "## Dictionary pop()"
   ]
  },
  {
   "cell_type": "code",
   "execution_count": 161,
   "id": "c56c7b4b",
   "metadata": {},
   "outputs": [
    {
     "name": "stdout",
     "output_type": "stream",
     "text": [
      "57\n"
     ]
    }
   ],
   "source": [
    "degree_marks = { 'ssd': 57, 'dsp': 65, 'lsd': 56 }\n",
    "b_tech = degree_marks.pop('ssd')\n",
    "\n",
    "print(b_tech)\n"
   ]
  },
  {
   "cell_type": "code",
   "execution_count": 162,
   "id": "e4de60cd",
   "metadata": {},
   "outputs": [
    {
     "name": "stdout",
     "output_type": "stream",
     "text": [
      "65\n"
     ]
    }
   ],
   "source": [
    "degree_marks = { 'ssd': 57, 'dsp': 65, 'lsd': 56 }\n",
    "b_tech = degree_marks.pop('dsp')\n",
    "\n",
    "print(b_tech)\n"
   ]
  },
  {
   "cell_type": "markdown",
   "id": "6094f1e5",
   "metadata": {},
   "source": [
    "## Dictionary values()"
   ]
  },
  {
   "cell_type": "code",
   "execution_count": 165,
   "id": "617fcc0e",
   "metadata": {},
   "outputs": [
    {
     "name": "stdout",
     "output_type": "stream",
     "text": [
      "dict_values([57, 65, 56])\n"
     ]
    }
   ],
   "source": [
    "degree_markss = { 'ssd': 57, 'dsp': 65, 'lsd': 56 }\n",
    "\n",
    "print(degree_markss.values())"
   ]
  },
  {
   "cell_type": "code",
   "execution_count": 166,
   "id": "2b3623a1",
   "metadata": {},
   "outputs": [
    {
     "name": "stdout",
     "output_type": "stream",
     "text": [
      "dict_values([57, 65])\n"
     ]
    }
   ],
   "source": [
    "a = { 4: 57, 5: 65 }\n",
    "print(a.values())\n"
   ]
  },
  {
   "cell_type": "markdown",
   "id": "dcbba4b0",
   "metadata": {},
   "source": [
    "## Dictionary update() "
   ]
  },
  {
   "cell_type": "code",
   "execution_count": 169,
   "id": "82531da2",
   "metadata": {},
   "outputs": [
    {
     "name": "stdout",
     "output_type": "stream",
     "text": [
      "{'name': 'soman', 'age': 87, 'weight': 48}\n"
     ]
    }
   ],
   "source": [
    "detail_1 = {'name':'soman', 'age':87}\n",
    "add_1 = {'weight':48}\n",
    "detail_1.update(add_1)\n",
    "\n",
    "\n",
    "print(detail_1)"
   ]
  },
  {
   "cell_type": "code",
   "execution_count": 170,
   "id": "7b746028",
   "metadata": {},
   "outputs": [
    {
     "name": "stdout",
     "output_type": "stream",
     "text": [
      "{'name': 'soman', 'age': 87, 'weight': 48, 'heiht': 165}\n"
     ]
    }
   ],
   "source": [
    "detail_1 = {'name':'soman', 'age':87}\n",
    "add_1 = {'weight':48 , 'heiht':165}\n",
    "detail_1.update(add_1)\n",
    "\n",
    "\n",
    "print(detail_1)"
   ]
  },
  {
   "cell_type": "code",
   "execution_count": null,
   "id": "f20b9e78",
   "metadata": {},
   "outputs": [],
   "source": []
  }
 ],
 "metadata": {
  "kernelspec": {
   "display_name": "Python 3",
   "language": "python",
   "name": "python3"
  },
  "language_info": {
   "codemirror_mode": {
    "name": "ipython",
    "version": 3
   },
   "file_extension": ".py",
   "mimetype": "text/x-python",
   "name": "python",
   "nbconvert_exporter": "python",
   "pygments_lexer": "ipython3",
   "version": "3.8.8"
  }
 },
 "nbformat": 4,
 "nbformat_minor": 5
}
