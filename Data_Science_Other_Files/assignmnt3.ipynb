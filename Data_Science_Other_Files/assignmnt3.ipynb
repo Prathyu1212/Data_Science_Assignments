{
 "cells": [
  {
   "cell_type": "markdown",
   "id": "710bc2ab",
   "metadata": {},
   "source": [
    "## List comprehension"
   ]
  },
  {
   "cell_type": "code",
   "execution_count": 18,
   "id": "a6d8003d",
   "metadata": {},
   "outputs": [
    {
     "name": "stdout",
     "output_type": "stream",
     "text": [
      "['lop', 'lop', 'lop', 'lop', 'lop', 'lop', 'lop', 'lop', 'lop']\n"
     ]
    }
   ],
   "source": [
    "name = []\n",
    "nome = {\"lop\"}\n",
    "for letter in 'prathyush':\n",
    "    name.extend(nome)\n",
    "\n",
    "print(name)"
   ]
  },
  {
   "cell_type": "code",
   "execution_count": 11,
   "id": "be5dd15b",
   "metadata": {
    "scrolled": true
   },
   "outputs": [
    {
     "name": "stdout",
     "output_type": "stream",
     "text": [
      "[0, 3, 6, 9, 12]\n"
     ]
    }
   ],
   "source": [
    "numbers = [ x for x in range(15) if x % 3 == 0]\n",
    "print(numbers)"
   ]
  },
  {
   "cell_type": "code",
   "execution_count": 12,
   "id": "5dd199bb",
   "metadata": {},
   "outputs": [
    {
     "name": "stdout",
     "output_type": "stream",
     "text": [
      "[0, 30]\n"
     ]
    }
   ],
   "source": [
    "num = [y for y in range(50) if y % 5 == 0 if y % 6 == 0]\n",
    "print(num)"
   ]
  },
  {
   "cell_type": "code",
   "execution_count": 13,
   "id": "e03b93c3",
   "metadata": {
    "scrolled": true
   },
   "outputs": [
    {
     "name": "stdout",
     "output_type": "stream",
     "text": [
      "['Even', 'Odd', 'Even', 'Odd', 'Even', 'Odd', 'Even', 'Odd', 'Even', 'Odd', 'Even', 'Odd', 'Even', 'Odd', 'Even', 'Odd', 'Even', 'Odd', 'Even', 'Odd', 'Even', 'Odd', 'Even', 'Odd', 'Even', 'Odd', 'Even', 'Odd', 'Even', 'Odd']\n"
     ]
    }
   ],
   "source": [
    "numberss = [\"Even\" if i%2==0 else \"Odd\" for i in range(30)]\n",
    "print(numberss)"
   ]
  },
  {
   "cell_type": "code",
   "execution_count": 7,
   "id": "9cf11536",
   "metadata": {},
   "outputs": [
    {
     "name": "stdout",
     "output_type": "stream",
     "text": [
      "['p', 'r', 'a', 't', 'h', 'y', 'u', 's', 'h']\n"
     ]
    }
   ],
   "source": [
    "name = list(map(lambda x: x, 'prathyush'))\n",
    "print(name)"
   ]
  },
  {
   "cell_type": "code",
   "execution_count": null,
   "id": "5cceeb99",
   "metadata": {},
   "outputs": [],
   "source": []
  }
 ],
 "metadata": {
  "kernelspec": {
   "display_name": "Python 3",
   "language": "python",
   "name": "python3"
  },
  "language_info": {
   "codemirror_mode": {
    "name": "ipython",
    "version": 3
   },
   "file_extension": ".py",
   "mimetype": "text/x-python",
   "name": "python",
   "nbconvert_exporter": "python",
   "pygments_lexer": "ipython3",
   "version": "3.8.8"
  }
 },
 "nbformat": 4,
 "nbformat_minor": 5
}
