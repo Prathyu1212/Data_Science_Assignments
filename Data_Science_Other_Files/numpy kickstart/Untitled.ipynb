{
 "cells": [
  {
   "cell_type": "code",
   "execution_count": 5,
   "id": "8963d3ce",
   "metadata": {},
   "outputs": [
    {
     "name": "stdout",
     "output_type": "stream",
     "text": [
      "Requirement already satisfied: numpy in c:\\users\\prath\\anaconda3\\lib\\site-packages (1.20.1)\n"
     ]
    }
   ],
   "source": [
    "!pip install numpy"
   ]
  },
  {
   "cell_type": "code",
   "execution_count": 6,
   "id": "61f26704",
   "metadata": {},
   "outputs": [],
   "source": [
    "import numpy as np"
   ]
  },
  {
   "cell_type": "code",
   "execution_count": 5,
   "id": "64d6542f",
   "metadata": {},
   "outputs": [
    {
     "data": {
      "text/plain": [
       "array([1, 2, 3])"
      ]
     },
     "execution_count": 5,
     "metadata": {},
     "output_type": "execute_result"
    }
   ],
   "source": [
    "np.array(object = [1,2,3], dtype=None)"
   ]
  },
  {
   "cell_type": "code",
   "execution_count": 19,
   "id": "5c092e0c",
   "metadata": {},
   "outputs": [
    {
     "name": "stdout",
     "output_type": "stream",
     "text": [
      "[1 2 3]\n",
      "<class 'numpy.ndarray'>\n",
      "no of dimension::         1\n",
      "no of elements:           3\n",
      "index of the max no:      2\n"
     ]
    }
   ],
   "source": [
    "arr_1= np.array([1,2,3])\n",
    "print(arr_1)\n",
    "print(type(arr_1))\n",
    "print('no of dimension::        ', arr_1.ndim)\n",
    "print('no of elements:          ', arr_1.size)\n",
    "print('index of the max no:     ', arr_1.argmax())"
   ]
  },
  {
   "cell_type": "code",
   "execution_count": 29,
   "id": "ff8e2608",
   "metadata": {},
   "outputs": [
    {
     "data": {
      "text/plain": [
       "[1, 5, 6, 8]"
      ]
     },
     "execution_count": 29,
     "metadata": {},
     "output_type": "execute_result"
    }
   ],
   "source": [
    "list_1 = [1,5,6,8]\n",
    "list_1"
   ]
  },
  {
   "cell_type": "code",
   "execution_count": 30,
   "id": "f15662c9",
   "metadata": {},
   "outputs": [],
   "source": [
    "list_1.extend([13,14])"
   ]
  },
  {
   "cell_type": "code",
   "execution_count": 31,
   "id": "68139cb3",
   "metadata": {},
   "outputs": [
    {
     "data": {
      "text/plain": [
       "[1, 5, 6, 8, 13, 14]"
      ]
     },
     "execution_count": 31,
     "metadata": {},
     "output_type": "execute_result"
    }
   ],
   "source": [
    "list_1"
   ]
  },
  {
   "cell_type": "code",
   "execution_count": 46,
   "id": "f7c179c9",
   "metadata": {},
   "outputs": [
    {
     "data": {
      "text/plain": [
       "array([4, 5])"
      ]
     },
     "execution_count": 46,
     "metadata": {},
     "output_type": "execute_result"
    }
   ],
   "source": [
    "arr_2=np.array([4,5]) \n",
    "arr_2"
   ]
  },
  {
   "cell_type": "code",
   "execution_count": 49,
   "id": "6f165881",
   "metadata": {},
   "outputs": [],
   "source": [
    "arr_2.fill(9)"
   ]
  },
  {
   "cell_type": "code",
   "execution_count": 50,
   "id": "37142725",
   "metadata": {},
   "outputs": [
    {
     "data": {
      "text/plain": [
       "array([9, 9])"
      ]
     },
     "execution_count": 50,
     "metadata": {},
     "output_type": "execute_result"
    }
   ],
   "source": [
    "arr_2"
   ]
  },
  {
   "cell_type": "code",
   "execution_count": 11,
   "id": "320ea1dd",
   "metadata": {},
   "outputs": [
    {
     "name": "stdout",
     "output_type": "stream",
     "text": [
      "[[[1 2 5]\n",
      "  [4 5 6]\n",
      "  [4 5 7]]]\n"
     ]
    }
   ],
   "source": [
    "arrey = np.array([[[1,2,5],[4,5,6],[4,5,7]]])\n",
    "print(arrey)"
   ]
  },
  {
   "cell_type": "code",
   "execution_count": 12,
   "id": "0c734449",
   "metadata": {},
   "outputs": [
    {
     "data": {
      "text/plain": [
       "[[1, 4, 5], [4, 5, 5]]"
      ]
     },
     "execution_count": 12,
     "metadata": {},
     "output_type": "execute_result"
    }
   ],
   "source": [
    "lis_2 = [[1,4,5],[4,5,5]]\n",
    "lis_2"
   ]
  },
  {
   "cell_type": "code",
   "execution_count": 13,
   "id": "42c3aecc",
   "metadata": {},
   "outputs": [
    {
     "name": "stdout",
     "output_type": "stream",
     "text": [
      "[[1 4 5]\n",
      " [4 5 5]]\n",
      "<class 'numpy.ndarray'>\n"
     ]
    }
   ],
   "source": [
    "arrr = np.array(lis_2)\n",
    "print(arrr)\n",
    "print(type(arrr))"
   ]
  },
  {
   "cell_type": "code",
   "execution_count": 14,
   "id": "d0b3ea2f",
   "metadata": {},
   "outputs": [],
   "source": [
    "lil = arrr.tolist()"
   ]
  },
  {
   "cell_type": "code",
   "execution_count": null,
   "id": "db0b3797",
   "metadata": {},
   "outputs": [],
   "source": [
    "print(type(lil))"
   ]
  },
  {
   "cell_type": "code",
   "execution_count": null,
   "id": "707c664e",
   "metadata": {},
   "outputs": [],
   "source": [
    "import pandas as pd"
   ]
  },
  {
   "cell_type": "code",
   "execution_count": 15,
   "id": "10e720d2",
   "metadata": {
    "scrolled": true
   },
   "outputs": [
    {
     "data": {
      "text/plain": [
       "[[1, 4, 5], [4, 5, 5]]"
      ]
     },
     "execution_count": 15,
     "metadata": {},
     "output_type": "execute_result"
    }
   ],
   "source": [
    "lil"
   ]
  },
  {
   "cell_type": "code",
   "execution_count": 9,
   "id": "0de0d706",
   "metadata": {},
   "outputs": [
    {
     "data": {
      "text/plain": [
       "1"
      ]
     },
     "execution_count": 9,
     "metadata": {},
     "output_type": "execute_result"
    }
   ],
   "source": [
    "arrey = np.array([1,5,5,5])\n",
    "arrey.ndim"
   ]
  },
  {
   "cell_type": "code",
   "execution_count": 16,
   "id": "f01e3160",
   "metadata": {},
   "outputs": [
    {
     "data": {
      "text/plain": [
       "5.0"
      ]
     },
     "execution_count": 16,
     "metadata": {},
     "output_type": "execute_result"
    }
   ],
   "source": [
    "np.median(arrey)"
   ]
  },
  {
   "cell_type": "code",
   "execution_count": 18,
   "id": "b0bbd20e",
   "metadata": {},
   "outputs": [
    {
     "data": {
      "text/plain": [
       "array([[[1, 2, 5],\n",
       "        [4, 5, 6],\n",
       "        [4, 5, 7]]])"
      ]
     },
     "execution_count": 18,
     "metadata": {},
     "output_type": "execute_result"
    }
   ],
   "source": [
    "arrey"
   ]
  },
  {
   "cell_type": "code",
   "execution_count": null,
   "id": "9df6d378",
   "metadata": {},
   "outputs": [],
   "source": []
  }
 ],
 "metadata": {
  "kernelspec": {
   "display_name": "Python 3",
   "language": "python",
   "name": "python3"
  },
  "language_info": {
   "codemirror_mode": {
    "name": "ipython",
    "version": 3
   },
   "file_extension": ".py",
   "mimetype": "text/x-python",
   "name": "python",
   "nbconvert_exporter": "python",
   "pygments_lexer": "ipython3",
   "version": "3.8.8"
  }
 },
 "nbformat": 4,
 "nbformat_minor": 5
}
